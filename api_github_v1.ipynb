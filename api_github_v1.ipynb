{
 "cells": [
  {
   "cell_type": "code",
   "execution_count": null,
   "metadata": {},
   "outputs": [],
   "source": [
    "import requests, datetime\n",
    "\n",
    "def procurar_usuario(usuario):\n",
    "    url_completa = f'https://api.github.com/users/{usuario}'\n",
    "    resposta = requests.get(url_completa)\n",
    "    if resposta.status_code == 200:\n",
    "        return resposta.json()\n",
    "    else: \n",
    "        return None\n",
    "\n",
    "user = input('Digite um usuário: ')\n",
    "resposta = procurar_usuario(user)\n",
    "\n",
    "print(f'''Informações de {user}:\n",
    "Login: {resposta['login']}\n",
    "Nome: {resposta['name']}\n",
    "Seguidores: {resposta['followers']}\n",
    "Seguindo: {resposta['following']}\n",
    "Localização: {resposta['location']}\n",
    "Criado em: {datetime.datetime.strptime(resposta['created_at'], \"%Y-%m-%dT%H:%M:%SZ\").strftime(\"%d/%m/%Y\")}\n",
    "Atualizado em: {datetime.datetime.strptime(resposta['updated_at'], \"%Y-%m-%dT%H:%M:%SZ\").strftime(\"%d/%m/%Y\")}\n",
    "''')\n",
    "\n"
   ]
  }
 ],
 "metadata": {
  "kernelspec": {
   "display_name": "venv",
   "language": "python",
   "name": "python3"
  },
  "language_info": {
   "codemirror_mode": {
    "name": "ipython",
    "version": 3
   },
   "file_extension": ".py",
   "mimetype": "text/x-python",
   "name": "python",
   "nbconvert_exporter": "python",
   "pygments_lexer": "ipython3",
   "version": "3.12.3"
  }
 },
 "nbformat": 4,
 "nbformat_minor": 2
}
